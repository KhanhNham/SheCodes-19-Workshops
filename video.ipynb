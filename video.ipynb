{
 "cells": [
  {
   "cell_type": "markdown",
   "metadata": {},
   "source": [
    "# Video và Camera trong OpenCV"
   ]
  },
  {
   "cell_type": "markdown",
   "metadata": {},
   "source": [
    "> Video là tập hợp các hình ảnh liên tiếp nhau ( frame )"
   ]
  },
  {
   "cell_type": "code",
   "execution_count": 2,
   "metadata": {},
   "outputs": [],
   "source": [
    "import cv2\n",
    "import numpy"
   ]
  },
  {
   "cell_type": "markdown",
   "metadata": {},
   "source": [
    "    cv2.VideoCapture(video_source)\n",
    "> Gửi trả về một object video mà opencv có thể hiểu được. Video source có thể là từ webcam, file hoặc từ internet"
   ]
  },
  {
   "cell_type": "markdown",
   "metadata": {},
   "source": [
    "## Video source từ file"
   ]
  },
  {
   "cell_type": "code",
   "execution_count": 4,
   "metadata": {},
   "outputs": [],
   "source": [
    "video = cv2.VideoCapture('res/sample_video.mp4') # Video source là video trong thư mục res"
   ]
  },
  {
   "cell_type": "markdown",
   "metadata": {},
   "source": [
    "    read()\n",
    "> gửi trả về 2 object ret và frame theo thứ tự xuất hiện trong video"
   ]
  },
  {
   "cell_type": "code",
   "execution_count": 7,
   "metadata": {},
   "outputs": [],
   "source": [
    "cv2.namedWindow('video')\n",
    "\n",
    "while(video.isOpened()):\n",
    "    ret, frame = video.read()\n",
    "    if ret == False: # kiểm tra đã tới cuối video hay chưa\n",
    "        break\n",
    "    cv2.imshow('video', frame)\n",
    "    if cv2.waitKey(1) & 0xFF == ord('q'): # Tắt video khi nhấn q\n",
    "        break\n",
    "\n",
    "video.release() # dọn dẹp tài nguyên\n",
    "cv2.destroyAllWindows () # dọn dẹp tài nguyên"
   ]
  },
  {
   "cell_type": "markdown",
   "metadata": {},
   "source": [
    "## Video source là webcam"
   ]
  },
  {
   "cell_type": "code",
   "execution_count": null,
   "metadata": {},
   "outputs": [],
   "source": [
    "video = cv2.VideoCapture(0) # Video source là video trong thư mục res\n",
    "\n",
    "cv2.namedWindow('video')\n",
    "\n",
    "while(video.isOpened()):\n",
    "    ret, frame = video.read()\n",
    "    if ret == False: # kiểm tra đã tới cuối video hay chưa\n",
    "        break\n",
    "    cv2.imshow('video', frame)\n",
    "    if cv2.waitKey(1) & 0xFF == ord('q'): # Tắt video khi nhấn q\n",
    "        break\n",
    "\n",
    "video.release() # dọn dẹp tài nguyên\n",
    "cv2.destroyAllWindows () # dọn dẹp tài nguyên"
   ]
  }
 ],
 "metadata": {
  "kernelspec": {
   "display_name": "Python 3",
   "language": "python",
   "name": "python3"
  },
  "language_info": {
   "codemirror_mode": {
    "name": "ipython",
    "version": 3
   },
   "file_extension": ".py",
   "mimetype": "text/x-python",
   "name": "python",
   "nbconvert_exporter": "python",
   "pygments_lexer": "ipython3",
   "version": "3.7.4"
  }
 },
 "nbformat": 4,
 "nbformat_minor": 4
}
