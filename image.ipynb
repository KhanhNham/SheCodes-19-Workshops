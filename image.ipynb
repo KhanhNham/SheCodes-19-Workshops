{
 "cells": [
  {
   "cell_type": "markdown",
   "metadata": {},
   "source": [
    "# Hình ảnh trong OpenCV"
   ]
  },
  {
   "cell_type": "markdown",
   "metadata": {},
   "source": [
    "> Hình ảnh trong máy tính được thể hiện dưới dạng một ma trận với kích thước của ma trận bằng với kích thước của ảnh"
   ]
  },
  {
   "cell_type": "markdown",
   "metadata": {},
   "source": [
    "> Mỗi pixel trong ma trận được thể hiện dưới dạng 1 vector hoặc 1 dãy tùy theo thư viện xử lý hình ảnh. Mỗi pixel mang thông tin về màu qua 3 hoặc 4 thông số tùy theo cách thể hiện màu ( [RGB](https://en.wikipedia.org/wiki/RGB_color_model), [HSV](https://en.wikipedia.org/wiki/HSL_and_HSV) )"
   ]
  },
  {
   "cell_type": "markdown",
   "metadata": {},
   "source": [
    "## Hiển thị hình ảnh trong OpenCV"
   ]
  },
  {
   "cell_type": "code",
   "execution_count": 6,
   "metadata": {},
   "outputs": [],
   "source": [
    "import cv2\n",
    "import numpy as np"
   ]
  },
  {
   "cell_type": "markdown",
   "metadata": {},
   "source": [
    "    cv2.imread(image_path) \n",
    "> sẽ trả về một hình ảnh được chuyển thành dạng mà opencv có thể hiểu được"
   ]
  },
  {
   "cell_type": "code",
   "execution_count": 7,
   "metadata": {},
   "outputs": [],
   "source": [
    "image = cv2.imread('res/opencv_logo.png')"
   ]
  },
  {
   "cell_type": "markdown",
   "metadata": {},
   "source": [
    "    cv2.namedWindow(window)\n",
    "> Tạo ra một cửa sổ giao diện để hiển thị ảnh"
   ]
  },
  {
   "cell_type": "markdown",
   "metadata": {},
   "source": [
    "    cv2.imshow(window, image)\n",
    "> Hiển thị ảnh đã được load vào bộ nhớ bằng imread trong cửa sổ giao diện tương ứng"
   ]
  },
  {
   "cell_type": "markdown",
   "metadata": {},
   "source": [
    "    cv2.waitkey(duration)\n",
    "> Chờ người dùng nhấn một phím bất kì hoặc trong duration (ms) trước khi thực hiện các câu lệnh tiếp theo. Nếu duration = 0 sẽ chờ đến khi người dùng nhấn một phím bất kì. Duration phải là số nguyên không âm"
   ]
  },
  {
   "cell_type": "code",
   "execution_count": 8,
   "metadata": {},
   "outputs": [],
   "source": [
    "cv2.namedWindow('window')\n",
    "cv2.imshow('window', image) # tắt ngay lập tức vì chương trình chờ người dùng\n",
    "cv2.destroyWindow('window') # dọn dẹp tài nguyên"
   ]
  },
  {
   "cell_type": "code",
   "execution_count": 9,
   "metadata": {},
   "outputs": [],
   "source": [
    "cv2.namedWindow('window1')\n",
    "cv2.imshow('window1', image)\n",
    "cv2.waitKey(0) # tắt khi nhấn phím bất kì\n",
    "cv2.destroyWindow('window1') # dọn dẹp tài nguyên"
   ]
  },
  {
   "cell_type": "markdown",
   "metadata": {},
   "source": [
    "    cv2.imwrite(image_path, image)\n",
    "> Lưu lại image với tên mới là image_path"
   ]
  },
  {
   "cell_type": "code",
   "execution_count": 10,
   "metadata": {},
   "outputs": [
    {
     "data": {
      "text/plain": [
       "True"
      ]
     },
     "execution_count": 10,
     "metadata": {},
     "output_type": "execute_result"
    }
   ],
   "source": [
    "cv2.imwrite('res/opencv_logo.jpg', image)"
   ]
  }
 ],
 "metadata": {
  "kernelspec": {
   "display_name": "Python 3",
   "language": "python",
   "name": "python3"
  },
  "language_info": {
   "codemirror_mode": {
    "name": "ipython",
    "version": 3
   },
   "file_extension": ".py",
   "mimetype": "text/x-python",
   "name": "python",
   "nbconvert_exporter": "python",
   "pygments_lexer": "ipython3",
   "version": "3.7.4"
  }
 },
 "nbformat": 4,
 "nbformat_minor": 4
}
